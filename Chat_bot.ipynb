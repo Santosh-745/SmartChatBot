{
 "cells": [
  {
   "cell_type": "code",
   "execution_count": 1,
   "metadata": {},
   "outputs": [],
   "source": [
    "# Import Needfull lIabraries\n",
    "from newspaper import Article\n",
    "import random\n",
    "import string\n",
    "import nltk\n",
    "from sklearn.feature_extraction.text import CountVectorizer\n",
    "from sklearn.metrics.pairwise import cosine_similarity\n",
    "import numpy as np"
   ]
  },
  {
   "cell_type": "code",
   "execution_count": 2,
   "metadata": {},
   "outputs": [
    {
     "data": {
      "text/plain": [
       "True"
      ]
     },
     "execution_count": 2,
     "metadata": {},
     "output_type": "execute_result"
    }
   ],
   "source": [
    "# Download the tokenizer for NLTK took\n",
    "nltk.download('punkt',quiet=True)"
   ]
  },
  {
   "cell_type": "code",
   "execution_count": 3,
   "metadata": {},
   "outputs": [],
   "source": [
    "# Fetch the Data from Perticular Web site\n",
    "article = Article('https://www.mayoclinic.org/diseases-conditions/chronic-kidney-disease/symptoms-causes/syc-20354521')\n",
    "article.download()\n",
    "article.parse()\n",
    "article.nlp()\n",
    "corpus = article.text"
   ]
  },
  {
   "cell_type": "code",
   "execution_count": 4,
   "metadata": {},
   "outputs": [],
   "source": [
    "# print(corpus)"
   ]
  },
  {
   "cell_type": "code",
   "execution_count": null,
   "metadata": {},
   "outputs": [],
   "source": [
    "# Tokenize the different Sentances available in the Text\n",
    "text = corpus\n",
    "sentance_list = nltk.sent_tokenize(text)\n",
    "sentance_list"
   ]
  },
  {
   "cell_type": "code",
   "execution_count": 6,
   "metadata": {},
   "outputs": [],
   "source": [
    "# Make the Function for Greetings\n",
    "def greeting_response(text):\n",
    "    text = text.lower()\n",
    "    bot_greetings = [\"hi\" , \"Hello\" , \"whatsup\" , \"Hey\"]\n",
    "    user_greetings = [\"Hi\", \"Whatsup\" , \"hello\" , \"hi\"]\n",
    "    \n",
    "    for word in text.split():\n",
    "        if word in user_greetings:\n",
    "            return random.choice(bot_greetings)"
   ]
  },
  {
   "cell_type": "code",
   "execution_count": 7,
   "metadata": {},
   "outputs": [],
   "source": [
    "def index_sort(list_var):\n",
    "    length = len(list_var)\n",
    "    list_index = list(range(0,length))\n",
    "    x = list_var\n",
    "    for i in range(length):\n",
    "        for j in range(length):\n",
    "            if(x[list_index[i]]>x[list_index[j]]):\n",
    "                temp = list_index[i]\n",
    "                list_index[i] = list_index[j]\n",
    "                list_index[j] = temp\n",
    "    return list_index"
   ]
  },
  {
   "cell_type": "code",
   "execution_count": 8,
   "metadata": {},
   "outputs": [],
   "source": [
    "# The main Logic Function of the program\n",
    "def bot_response(user_input):\n",
    "    user_input = user_input.lower()\n",
    "    sentance_list.append(user_input)\n",
    "    bot_response = \"\"\n",
    "    cm = CountVectorizer().fit_transform(sentance_list)\n",
    "    similarity_scores = cosine_similarity(cm[-1],cm)\n",
    "    similarity_scores_list = similarity_scores.flatten()\n",
    "    index = index_sort(similarity_scores_list)\n",
    "    index = index[1:]\n",
    "    response_flag = 0 \n",
    "    j = 0 \n",
    "    for i in range(len(index)):\n",
    "        if similarity_scores_list[index[i]] > 0.0:\n",
    "            bot_response = bot_response+\" \"+ sentance_list[index[i]]\n",
    "            response_flag = 1\n",
    "            j = j+1\n",
    "        if j>2:\n",
    "            break\n",
    "    if response_flag == 0:\n",
    "        bot_response = bot_response+\" \"+\"Sorry , I can't Understand !!!!!!\"\n",
    "        \n",
    "    sentance_list.remove(user_input)\n",
    "    return bot_response\n",
    "    "
   ]
  },
  {
   "cell_type": "code",
   "execution_count": null,
   "metadata": {},
   "outputs": [
    {
     "name": "stdout",
     "output_type": "stream",
     "text": [
      "Hey Whatsup Buddy :- \n"
     ]
    }
   ],
   "source": [
    "# Let's do some Conversion with chatbot\n",
    "print(\"Hey Whatsup Buddy :- \")\n",
    "\n",
    "exit_list = [\"exit\", \"bye\" , \"ok, see you later\" , \"quit\" , \"break\"]\n",
    "\n",
    "while(True):\n",
    "    user_input = input()\n",
    "    if user_input.lower() in exit_list:\n",
    "        print(\"Ok , Buddy See you Later\")\n",
    "        break\n",
    "    else:\n",
    "        if greeting_response(user_input) != None:\n",
    "            print(\"Hey : \"+greeting_response(user_input))\n",
    "        else :\n",
    "            print(\"Hey Buddy : \"+bot_response(user_input))"
   ]
  },
  {
   "cell_type": "code",
   "execution_count": null,
   "metadata": {},
   "outputs": [],
   "source": [
    "user_input = \"chronic\"\n",
    "sentance_list.append(user_input)\n",
    "bot_response = \"\"\n",
    "cm = CountVectorizer().fit_transform(sentance_list)\n",
    "similarity_scores = cosine_similarity(cm[-1],cm)\n",
    "# print(similarity_scores)\n",
    "similarity_scores_list = similarity_scores.flatten()\n",
    "# print(similarity_scores_list)\n",
    "index = index_sort(similarity_scores_list)\n",
    "cosine_similarity.score(cm[-1],cm)\n",
    "# similarity_scores\n",
    "# similarity_scores_list\n",
    "# index"
   ]
  },
  {
   "cell_type": "code",
   "execution_count": null,
   "metadata": {},
   "outputs": [],
   "source": [
    "# list_var = similarity_scores_list\n",
    "# length = len(list_var)\n",
    "# list_index = list(range(0,length))\n",
    "# x = list_var\n",
    "# print(x)\n",
    "# for i in range(length):\n",
    "#     print(i)\n",
    "#     for j in range(length):\n",
    "#         print(j)\n",
    "#         print(list_index)\n",
    "#         if(x[list_index[i]]>x[list_index[j]]):\n",
    "#             temp = list_index[i]\n",
    "#             list_index[i] = list_index[j]\n",
    "#             list_index[j] = temp\n",
    "            "
   ]
  },
  {
   "cell_type": "code",
   "execution_count": null,
   "metadata": {},
   "outputs": [],
   "source": []
  }
 ],
 "metadata": {
  "kernelspec": {
   "display_name": "Python 3",
   "language": "python",
   "name": "python3"
  },
  "language_info": {
   "codemirror_mode": {
    "name": "ipython",
    "version": 3
   },
   "file_extension": ".py",
   "mimetype": "text/x-python",
   "name": "python",
   "nbconvert_exporter": "python",
   "pygments_lexer": "ipython3",
   "version": "3.8.0"
  }
 },
 "nbformat": 4,
 "nbformat_minor": 4
}
